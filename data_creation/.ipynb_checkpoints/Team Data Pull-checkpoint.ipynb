{
 "cells": [
  {
   "cell_type": "code",
   "execution_count": 1,
   "metadata": {},
   "outputs": [],
   "source": [
    "import tbapy\n",
    "import numpy as np\n",
    "import pandas as pd\n",
    "tba = tbapy.TBA('70PhghWVToSpFoaK0scpRo6PCL7iKUff8tPhQXj4LrhQgwA60t7SBf5Tt4XvefzX')\n",
    "year = 2019\n",
    "match_input_file = \"match_data.csv\"\n",
    "output_file = \"team_data.csv\""
   ]
  },
  {
   "cell_type": "code",
   "execution_count": 2,
   "metadata": {},
   "outputs": [
    {
     "name": "stdout",
     "output_type": "stream",
     "text": [
      "['frc1', 'frc4', 'frc8', 'frc11', 'frc16', 'frc20', 'frc21', 'frc23', 'frc25', 'frc27']\n"
     ]
    }
   ],
   "source": [
    "# first, let's get a list of teams to query\n",
    "all_teams = set([])\n",
    "\n",
    "match_in = open(match_input_file, 'r')\n",
    "for line in match_in.readlines()[1:]:\n",
    "    all_teams.add(line.split(\",\")[2])\n",
    "    \n",
    "all_teams = sorted(all_teams, key=lambda t : int(t[3:]))\n",
    "print(all_teams[:10])"
   ]
  },
  {
   "cell_type": "code",
   "execution_count": 3,
   "metadata": {},
   "outputs": [],
   "source": [
    "# Setting up storage datastructure\n",
    "team_data = {}\n",
    "for team in all_teams:\n",
    "    team_data[team] = {}"
   ]
  },
  {
   "cell_type": "code",
   "execution_count": 4,
   "metadata": {},
   "outputs": [],
   "source": [
    "# PULLING ELO\n",
    "elo_data = pd.read_csv('elo_data.csv')\n",
    "def getTeamElo(team):\n",
    "    team_num = int(team[3:])\n",
    "    row = elo_data.loc[elo_data['Team'] == team_num]\n",
    "    return row.values[0][1]\n",
    "for team in all_teams:\n",
    "    team_data[team]['elo'] = getTeamElo(team)"
   ]
  },
  {
   "cell_type": "code",
   "execution_count": 14,
   "metadata": {},
   "outputs": [
    {
     "name": "stdout",
     "output_type": "stream",
     "text": [
      "No event winner found for 2006wa\n"
     ]
    }
   ],
   "source": [
    "# Adding # event wins & seasons\n",
    "for team in all_teams:\n",
    "    team_data[team]['event_wins'] = 0\n",
    "    team_data[team]['1_wins'] = 0 # win as alliance captain\n",
    "    team_data[team]['2_wins'] = 0 # win as first pick\n",
    "    team_data[team]['3_wins'] = 0 # win as second pick\n",
    "for yr in list(range(2005, 2019)): # wins from 2005-2018\n",
    "    all_events = list(filter(lambda e : e.event_type >= 0 and e.event_type <= 5, tba.events(yr))) # all regular season events\n",
    "    for event_key in [e.key for e in all_events]:\n",
    "        win_awards = list(filter(lambda a : a.award_type == 1,tba.event_awards(event_key)))\n",
    "        win_award = win_awards[0] if len(win_awards) == 1 else None\n",
    "        if win_award == None:\n",
    "            print(f\"No event winner found for {event_key}\")\n",
    "            continue\n",
    "        for i, win_dict in enumerate(win_award.recipient_list):\n",
    "            team_key = win_dict['team_key']\n",
    "            if team_key not in all_teams:\n",
    "                continue\n",
    "            team_data[team_key]['event_wins'] += 1\n",
    "            if i + 1 <= 3:\n",
    "                team_data[team_key][f\"{i + 1}_wins\"] += 1"
   ]
  },
  {
   "cell_type": "code",
   "execution_count": 17,
   "metadata": {},
   "outputs": [],
   "source": [
    "# Adding # seasons participated\n",
    "for team in all_teams:\n",
    "    team_data[team]['num_seasons'] = len(tba.team_years(team))"
   ]
  },
  {
   "cell_type": "code",
   "execution_count": 19,
   "metadata": {},
   "outputs": [],
   "source": [
    "# Adding event wins per season\n",
    "for team in all_teams:\n",
    "    team_data[team][\"event_wins_per_season\"] = team_data[team][\"event_wins\"]/team_data[team]['num_seasons']"
   ]
  },
  {
   "cell_type": "code",
   "execution_count": 20,
   "metadata": {},
   "outputs": [
    {
     "name": "stdout",
     "output_type": "stream",
     "text": [
      "{'elo': 1667, 'event_wins': 0, '1_wins': 0, '2_wins': 0, '3_wins': 0, 'num_seasons': 7, 'event_wins_per_season': 0.0}\n"
     ]
    }
   ],
   "source": [
    "print(team_data['frc4944'])"
   ]
  },
  {
   "cell_type": "code",
   "execution_count": 23,
   "metadata": {},
   "outputs": [],
   "source": [
    "writer = open(output_file, 'w')\n",
    "cols = list(team_data['frc1'].keys())\n",
    "writer.write(\",\".join([\"team\"] + cols) + '\\n')\n",
    "for team in all_teams:\n",
    "    writer.write(\",\".join([team] + [str(team_data[team][c]) for c in cols]) + '\\n')\n",
    "writer.close()"
   ]
  }
 ],
 "metadata": {
  "kernelspec": {
   "display_name": "Python 3",
   "language": "python",
   "name": "python3"
  },
  "language_info": {
   "codemirror_mode": {
    "name": "ipython",
    "version": 3
   },
   "file_extension": ".py",
   "mimetype": "text/x-python",
   "name": "python",
   "nbconvert_exporter": "python",
   "pygments_lexer": "ipython3",
   "version": "3.6.9"
  }
 },
 "nbformat": 4,
 "nbformat_minor": 4
}
