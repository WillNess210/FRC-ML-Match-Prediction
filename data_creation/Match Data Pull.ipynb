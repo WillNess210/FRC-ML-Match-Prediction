{
 "cells": [
  {
   "cell_type": "code",
   "execution_count": 1,
   "metadata": {},
   "outputs": [],
   "source": [
    "import tbapy\n",
    "import numpy as np\n",
    "tba = tbapy.TBA('70PhghWVToSpFoaK0scpRo6PCL7iKUff8tPhQXj4LrhQgwA60t7SBf5Tt4XvefzX')\n",
    "year = 2019\n",
    "output_file = \"match_data.csv\"\n",
    "output_file2 = \"match_simple.csv\"\n",
    "# 0 = RED\n",
    "# 1 = BLUE"
   ]
  },
  {
   "cell_type": "code",
   "execution_count": 2,
   "metadata": {},
   "outputs": [],
   "source": [
    "# event type guide: https://github.com/the-blue-alliance/the-blue-alliance/blob/master/consts/event_type.py#L2\n",
    "all_events = sorted(list(filter(lambda e : e.event_type >= 0 and e.event_type <= 5, tba.events(year))), key = lambda a : a.start_date) # all regular season events\n",
    "pre_champs_events = list(filter(lambda e : e.event_type not in [3, 4], all_events))\n",
    "champs_events = list(filter(lambda e : e.event_type in [3, 4], all_events))"
   ]
  },
  {
   "cell_type": "code",
   "execution_count": 3,
   "metadata": {},
   "outputs": [
    {
     "name": "stdout",
     "output_type": "stream",
     "text": [
      "Total # Events: 193\n",
      "Pre-Champs (Training) Events: 179\n",
      "Champs (Test) Events: 14\n"
     ]
    }
   ],
   "source": [
    "print(f\"Total # Events: {len(all_events)}\")\n",
    "print(f\"Pre-Champs (Training) Events: {len(pre_champs_events)}\")\n",
    "print(f\"Champs (Test) Events: {len(champs_events)}\")"
   ]
  },
  {
   "cell_type": "code",
   "execution_count": 4,
   "metadata": {},
   "outputs": [],
   "source": [
    "pre_champs_matches = []\n",
    "champs_matches = []\n",
    "for match_list, event_list in ((pre_champs_matches, pre_champs_events), (champs_matches, champs_events)):\n",
    "    for event in event_list:\n",
    "        event_matches = tba.event_matches(event.key)\n",
    "        for match in event_matches:\n",
    "            if match.score_breakdown != None: # match has been finished & reported score\n",
    "                match_list.append(match)"
   ]
  },
  {
   "cell_type": "code",
   "execution_count": 5,
   "metadata": {},
   "outputs": [
    {
     "name": "stdout",
     "output_type": "stream",
     "text": [
      "Pre-Champs (Training) Matches: 16434\n",
      "Champs (Test) Matches: 1588\n"
     ]
    }
   ],
   "source": [
    "print(f\"Pre-Champs (Training) Matches: {len(pre_champs_matches)}\")\n",
    "print(f\"Champs (Test) Matches: {len(champs_matches)}\")"
   ]
  },
  {
   "cell_type": "code",
   "execution_count": 6,
   "metadata": {},
   "outputs": [
    {
     "name": "stdout",
     "output_type": "stream",
     "text": [
      "51 Features: ['adjustPoints', 'autoPoints', 'bay1', 'bay2', 'bay3', 'bay4', 'bay5', 'bay6', 'bay7', 'bay8', 'cargoPoints', 'completeRocketRankingPoint', 'completedRocketFar', 'completedRocketNear', 'endgameRobot1', 'endgameRobot2', 'endgameRobot3', 'foulCount', 'foulPoints', 'habClimbPoints', 'habDockingRankingPoint', 'habLineRobot1', 'habLineRobot2', 'habLineRobot3', 'hatchPanelPoints', 'lowLeftRocketFar', 'lowLeftRocketNear', 'lowRightRocketFar', 'lowRightRocketNear', 'midLeftRocketFar', 'midLeftRocketNear', 'midRightRocketFar', 'midRightRocketNear', 'preMatchBay1', 'preMatchBay2', 'preMatchBay3', 'preMatchBay6', 'preMatchBay7', 'preMatchBay8', 'preMatchLevelRobot1', 'preMatchLevelRobot2', 'preMatchLevelRobot3', 'rp', 'sandStormBonusPoints', 'techFoulCount', 'teleopPoints', 'topLeftRocketFar', 'topLeftRocketNear', 'topRightRocketFar', 'topRightRocketNear', 'totalPoints']\n",
      "Alliance features: ['adjustPoints', 'autoPoints', 'bay1', 'bay2', 'bay3', 'bay4', 'bay5', 'bay6', 'bay7', 'bay8', 'cargoPoints', 'completeRocketRankingPoint', 'completedRocketFar', 'completedRocketNear', 'foulCount', 'foulPoints', 'habClimbPoints', 'habDockingRankingPoint', 'hatchPanelPoints', 'lowLeftRocketFar', 'lowLeftRocketNear', 'lowRightRocketFar', 'lowRightRocketNear', 'midLeftRocketFar', 'midLeftRocketNear', 'midRightRocketFar', 'midRightRocketNear', 'preMatchBay1', 'preMatchBay2', 'preMatchBay3', 'preMatchBay6', 'preMatchBay7', 'preMatchBay8', 'rp', 'sandStormBonusPoints', 'techFoulCount', 'teleopPoints', 'topLeftRocketFar', 'topLeftRocketNear', 'topRightRocketFar', 'topRightRocketNear', 'totalPoints']\n",
      "Robot features: ['endgameRobot1', 'endgameRobot2', 'endgameRobot3', 'habLineRobot1', 'habLineRobot2', 'habLineRobot3', 'preMatchLevelRobot1', 'preMatchLevelRobot2', 'preMatchLevelRobot3']\n"
     ]
    }
   ],
   "source": [
    "all_features = list(pre_champs_matches[0].score_breakdown['red'].keys())\n",
    "print(f\"{len(all_features)} Features: {all_features}\")\n",
    "# split up between alliance features and individual features\n",
    "robot_features = list(filter(lambda f : 'Robot' in f, all_features))\n",
    "alliance_features = list(filter(lambda f : f not in robot_features, all_features))\n",
    "print(f\"Alliance features: {alliance_features}\")\n",
    "print(f\"Robot features: {robot_features}\")"
   ]
  },
  {
   "cell_type": "code",
   "execution_count": 7,
   "metadata": {},
   "outputs": [
    {
     "name": "stdout",
     "output_type": "stream",
     "text": [
      "adjustPoints (<class 'int'>): [-97, -90, -88, -85, -83, -82, -80, -78, -76, -74, -73, -72, -71, -70, -69, -68, -67, -65, -64, -63, -62, -61, -59, -57, -56, -53, -51, -50, -49, -47, -46, -36, -24, -8, -4, -3, -2, -1, 0, 1, 2, 3]\n",
      "autoPoints (<class 'int'>): [0, 3, 6, 9, 12, 15, 18]\n",
      "bay1 (<class 'str'>): ['None', 'Panel', 'PanelAndCargo']\n",
      "bay2 (<class 'str'>): ['None', 'Panel', 'PanelAndCargo']\n",
      "bay3 (<class 'str'>): ['None', 'Panel', 'PanelAndCargo']\n",
      "bay4 (<class 'str'>): ['None', 'Panel', 'PanelAndCargo']\n",
      "bay5 (<class 'str'>): ['None', 'Panel', 'PanelAndCargo']\n",
      "bay6 (<class 'str'>): ['None', 'Panel', 'PanelAndCargo']\n",
      "bay7 (<class 'str'>): ['None', 'Panel', 'PanelAndCargo']\n",
      "bay8 (<class 'str'>): ['None', 'Panel', 'PanelAndCargo']\n",
      "cargoPoints (<class 'int'>): [0, 3, 6, 9, 12, 15, 18, 21, 24, 27, 30, 33, 36, 39, 42, 45, 48, 51, 54, 57, 60]\n",
      "completeRocketRankingPoint (<class 'bool'>): [False, True]\n",
      "completedRocketFar (<class 'bool'>): [False, True]\n",
      "completedRocketNear (<class 'bool'>): [False, True]\n",
      "endgameRobot1 (<class 'str'>): ['HabLevel1', 'HabLevel2', 'HabLevel3', 'None', 'Unknown']\n",
      "endgameRobot2 (<class 'str'>): ['HabLevel1', 'HabLevel2', 'HabLevel3', 'None', 'Unknown']\n",
      "endgameRobot3 (<class 'str'>): ['HabLevel1', 'HabLevel2', 'HabLevel3', 'None', 'Unknown']\n",
      "foulCount (<class 'int'>): [0, 1, 2, 3, 4, 5, 6, 7, 8, 9, 10, 11, 12, 13, 14, 15, 16, 17, 18, 19, 20, 22, 24, 29]\n",
      "foulPoints (<class 'int'>): [0, 3, 6, 9, 10, 12, 13, 15, 16, 18, 19, 20, 21, 22, 23, 24, 25, 26, 27, 28, 29, 30, 31, 32, 33, 34, 35, 36, 37, 39, 40, 41, 42, 43, 44, 45, 48, 50, 51, 53, 54, 57, 58, 60, 62, 64, 66, 70, 72, 85, 87, 99]\n",
      "habClimbPoints (<class 'int'>): [0, 3, 6, 9, 12, 15, 18, 21, 24, 27, 30, 36]\n",
      "habDockingRankingPoint (<class 'bool'>): [False, True]\n",
      "habLineRobot1 (<class 'str'>): ['CrossedHabLineInSandstorm', 'CrossedHabLineInTeleop', 'None']\n",
      "habLineRobot2 (<class 'str'>): ['CrossedHabLineInSandstorm', 'CrossedHabLineInTeleop', 'None']\n",
      "habLineRobot3 (<class 'str'>): ['CrossedHabLineInSandstorm', 'CrossedHabLineInTeleop', 'None']\n",
      "hatchPanelPoints (<class 'int'>): [0, 2, 4, 6, 8, 10, 12, 14, 16, 18, 20, 22, 24, 26, 28, 30, 32, 34, 36]\n",
      "lowLeftRocketFar (<class 'str'>): ['None', 'Panel', 'PanelAndCargo']\n",
      "lowLeftRocketNear (<class 'str'>): ['None', 'Panel', 'PanelAndCargo']\n",
      "lowRightRocketFar (<class 'str'>): ['None', 'Panel', 'PanelAndCargo']\n",
      "lowRightRocketNear (<class 'str'>): ['None', 'Panel', 'PanelAndCargo']\n",
      "midLeftRocketFar (<class 'str'>): ['None', 'Panel', 'PanelAndCargo']\n",
      "midLeftRocketNear (<class 'str'>): ['None', 'Panel', 'PanelAndCargo']\n",
      "midRightRocketFar (<class 'str'>): ['None', 'Panel', 'PanelAndCargo']\n",
      "midRightRocketNear (<class 'str'>): ['None', 'Panel', 'PanelAndCargo']\n",
      "preMatchBay1 (<class 'str'>): ['Cargo', 'Panel', 'Unknown']\n",
      "preMatchBay2 (<class 'str'>): ['Cargo', 'Panel', 'Unknown']\n",
      "preMatchBay3 (<class 'str'>): ['Cargo', 'Panel', 'Unknown']\n",
      "preMatchBay6 (<class 'str'>): ['Cargo', 'Panel', 'Unknown']\n",
      "preMatchBay7 (<class 'str'>): ['Cargo', 'Panel', 'Unknown']\n",
      "preMatchBay8 (<class 'str'>): ['Cargo', 'Panel', 'Unknown']\n",
      "preMatchLevelRobot1 (<class 'str'>): ['HabLevel1', 'HabLevel2', 'None', 'Unknown']\n",
      "preMatchLevelRobot2 (<class 'str'>): ['HabLevel1', 'HabLevel2', 'None', 'Unknown']\n",
      "preMatchLevelRobot3 (<class 'str'>): ['HabLevel1', 'HabLevel2', 'None', 'Unknown']\n",
      "rp (<class 'int'>): [0, 1, 2, 3, 4]\n",
      "sandStormBonusPoints (<class 'int'>): [0, 3, 6, 9, 12, 15, 18]\n",
      "techFoulCount (<class 'int'>): [0, 1, 2, 3, 4, 7, 9]\n",
      "teleopPoints (<class 'int'>): [0, 2, 3, 4, 5, 6, 7, 8, 9, 10, 11, 12, 13, 14, 15, 16, 17, 18, 19, 20, 21, 22, 23, 24, 25, 26, 27, 28, 29, 30, 31, 32, 33, 34, 35, 36, 37, 38, 39, 40, 41, 42, 43, 44, 45, 46, 47, 48, 49, 50, 51, 52, 53, 54, 55, 56, 57, 58, 59, 60, 61, 62, 63, 64, 65, 66, 67, 68, 69, 70, 71, 72, 73, 74, 75, 76, 77, 78, 79, 80, 81, 82, 83, 84, 85, 86, 87, 88, 89, 90, 91, 92, 93, 94, 95, 96, 97, 98, 99, 100, 101, 102, 103, 104, 106, 107, 108, 109, 110, 111, 112, 113, 114, 115, 126]\n",
      "topLeftRocketFar (<class 'str'>): ['None', 'Panel', 'PanelAndCargo']\n",
      "topLeftRocketNear (<class 'str'>): ['None', 'Panel', 'PanelAndCargo']\n",
      "topRightRocketFar (<class 'str'>): ['None', 'Panel', 'PanelAndCargo']\n",
      "topRightRocketNear (<class 'str'>): ['None', 'Panel', 'PanelAndCargo']\n",
      "totalPoints (<class 'int'>): [0, 2, 3, 5, 6, 7, 8, 9, 10, 11, 12, 13, 14, 15, 16, 17, 18, 19, 20, 21, 22, 23, 24, 25, 26, 27, 28, 29, 30, 31, 32, 33, 34, 35, 36, 37, 38, 39, 40, 41, 42, 43, 44, 45, 46, 47, 48, 49, 50, 51, 52, 53, 54, 55, 56, 57, 58, 59, 60, 61, 62, 63, 64, 65, 66, 67, 68, 69, 70, 71, 72, 73, 74, 75, 76, 77, 78, 79, 80, 81, 82, 83, 84, 85, 86, 87, 88, 89, 90, 91, 92, 93, 94, 95, 96, 97, 98, 99, 100, 101, 102, 103, 104, 105, 106, 107, 108, 109, 110, 111, 112, 113, 114, 115, 116, 117, 118, 119, 120, 121, 124, 125, 126, 127, 128, 129, 130, 134, 138, 139, 140, 141, 143]\n"
     ]
    }
   ],
   "source": [
    "# choice starts with None, but is here's the guide:\n",
    "# choice==str if feature is categorical\n",
    "# choice==int if feature can be simply averaged\n",
    "# choice==bool if feature is 0/1\n",
    "\n",
    "feature_vals = {} # feature -> (choice, [list of values])\n",
    "for feature in all_features:\n",
    "    feature_choices = set([])\n",
    "    # getting all values\n",
    "    for match in pre_champs_matches + champs_matches:\n",
    "        for alliance in ['red', 'blue']:\n",
    "            feature_choices.add(match.score_breakdown[alliance][feature])\n",
    "    feature_choices = sorted(list(feature_choices))\n",
    "    # determining\n",
    "    choice = str\n",
    "    if all(map(lambda f: isinstance(f, bool), feature_choices)):\n",
    "        choice = bool\n",
    "    elif all(map(lambda f : isinstance(f, int), feature_choices)):\n",
    "        choice = int\n",
    "        \n",
    "    feature_vals[feature] = (choice, feature_choices)\n",
    "    print(f\"{feature} ({choice}): {sorted(feature_choices)}\")"
   ]
  },
  {
   "cell_type": "code",
   "execution_count": 8,
   "metadata": {},
   "outputs": [],
   "source": [
    "def getFeaturesRow(match, alliance, robot_num):\n",
    "    features = []\n",
    "    for feature in alliance_features + [f for f in robot_features if f\"Robot{robot_num}\" in f]:\n",
    "        feature_corrected_name = feature[:-1] if feature[-6:-1] == 'Robot' else feature\n",
    "        if feature_vals[feature][0] == int:\n",
    "            features.append(feature_corrected_name)\n",
    "        elif feature_vals[feature][0] == bool:\n",
    "            features.append(feature_corrected_name)\n",
    "        else: # feature_vals[feature][0] == str\n",
    "            for val in feature_vals[feature][1]:\n",
    "                features.append(f\"{feature_corrected_name}_{val}\")\n",
    "    return features\n",
    "\n",
    "def getData(match, alliance, robot_num):\n",
    "    data = []\n",
    "    for feature in alliance_features + [f for f in robot_features if f\"Robot{robot_num}\" in f]:\n",
    "        if feature_vals[feature][0] == int:\n",
    "            data.append(match.score_breakdown[alliance][feature])\n",
    "        elif feature_vals[feature][0] == bool:\n",
    "            data.append(1 if match.score_breakdown[alliance][feature] else 0)\n",
    "        else: # feature_vals[feature][0] == str\n",
    "            to_app = [0 for _ in range(len(feature_vals[feature][1]))]\n",
    "            to_app[feature_vals[feature][1].index(match.score_breakdown[alliance][feature])] = 1\n",
    "            data.extend(to_app)\n",
    "    return data"
   ]
  },
  {
   "cell_type": "code",
   "execution_count": 9,
   "metadata": {},
   "outputs": [
    {
     "name": "stdout",
     "output_type": "stream",
     "text": [
      "106 ['adjustPoints', 'autoPoints', 'bay1_None', 'bay1_Panel', 'bay1_PanelAndCargo', 'bay2_None', 'bay2_Panel', 'bay2_PanelAndCargo', 'bay3_None', 'bay3_Panel', 'bay3_PanelAndCargo', 'bay4_None', 'bay4_Panel', 'bay4_PanelAndCargo', 'bay5_None', 'bay5_Panel', 'bay5_PanelAndCargo', 'bay6_None', 'bay6_Panel', 'bay6_PanelAndCargo', 'bay7_None', 'bay7_Panel', 'bay7_PanelAndCargo', 'bay8_None', 'bay8_Panel', 'bay8_PanelAndCargo', 'cargoPoints', 'completeRocketRankingPoint', 'completedRocketFar', 'completedRocketNear', 'foulCount', 'foulPoints', 'habClimbPoints', 'habDockingRankingPoint', 'hatchPanelPoints', 'lowLeftRocketFar_None', 'lowLeftRocketFar_Panel', 'lowLeftRocketFar_PanelAndCargo', 'lowLeftRocketNear_None', 'lowLeftRocketNear_Panel', 'lowLeftRocketNear_PanelAndCargo', 'lowRightRocketFar_None', 'lowRightRocketFar_Panel', 'lowRightRocketFar_PanelAndCargo', 'lowRightRocketNear_None', 'lowRightRocketNear_Panel', 'lowRightRocketNear_PanelAndCargo', 'midLeftRocketFar_None', 'midLeftRocketFar_Panel', 'midLeftRocketFar_PanelAndCargo', 'midLeftRocketNear_None', 'midLeftRocketNear_Panel', 'midLeftRocketNear_PanelAndCargo', 'midRightRocketFar_None', 'midRightRocketFar_Panel', 'midRightRocketFar_PanelAndCargo', 'midRightRocketNear_None', 'midRightRocketNear_Panel', 'midRightRocketNear_PanelAndCargo', 'preMatchBay1_Cargo', 'preMatchBay1_Panel', 'preMatchBay1_Unknown', 'preMatchBay2_Cargo', 'preMatchBay2_Panel', 'preMatchBay2_Unknown', 'preMatchBay3_Cargo', 'preMatchBay3_Panel', 'preMatchBay3_Unknown', 'preMatchBay6_Cargo', 'preMatchBay6_Panel', 'preMatchBay6_Unknown', 'preMatchBay7_Cargo', 'preMatchBay7_Panel', 'preMatchBay7_Unknown', 'preMatchBay8_Cargo', 'preMatchBay8_Panel', 'preMatchBay8_Unknown', 'rp', 'sandStormBonusPoints', 'techFoulCount', 'teleopPoints', 'topLeftRocketFar_None', 'topLeftRocketFar_Panel', 'topLeftRocketFar_PanelAndCargo', 'topLeftRocketNear_None', 'topLeftRocketNear_Panel', 'topLeftRocketNear_PanelAndCargo', 'topRightRocketFar_None', 'topRightRocketFar_Panel', 'topRightRocketFar_PanelAndCargo', 'topRightRocketNear_None', 'topRightRocketNear_Panel', 'topRightRocketNear_PanelAndCargo', 'totalPoints', 'endgameRobot_HabLevel1', 'endgameRobot_HabLevel2', 'endgameRobot_HabLevel3', 'endgameRobot_None', 'endgameRobot_Unknown', 'habLineRobot_CrossedHabLineInSandstorm', 'habLineRobot_CrossedHabLineInTeleop', 'habLineRobot_None', 'preMatchLevelRobot_HabLevel1', 'preMatchLevelRobot_HabLevel2', 'preMatchLevelRobot_None', 'preMatchLevelRobot_Unknown']\n",
      "--\n",
      "106 [0, 15, 0, 0, 1, 0, 0, 1, 0, 0, 1, 0, 0, 1, 0, 0, 1, 0, 0, 1, 0, 0, 1, 0, 1, 0, 33, 0, 0, 0, 1, 0, 36, 0, 22, 0, 1, 0, 0, 0, 1, 0, 1, 0, 0, 0, 1, 0, 1, 0, 0, 0, 1, 0, 1, 0, 0, 0, 1, 0, 1, 0, 0, 1, 0, 0, 1, 0, 0, 1, 0, 0, 1, 0, 0, 1, 0, 0, 15, 0, 91, 1, 0, 0, 1, 0, 0, 1, 0, 0, 0, 1, 0, 106, 0, 0, 1, 0, 0, 1, 0, 0, 1, 0, 0, 0]\n"
     ]
    }
   ],
   "source": [
    "args = {\n",
    "    'match': champs_matches[0],\n",
    "    'alliance': 'blue',\n",
    "    'robot_num': 1,\n",
    "}\n",
    "features_row = getFeaturesRow(**args)\n",
    "print(len(features_row), features_row)\n",
    "data_row = getData(**args)\n",
    "print(\"--\")\n",
    "print(len(data_row), data_row)"
   ]
  },
  {
   "cell_type": "code",
   "execution_count": 10,
   "metadata": {},
   "outputs": [
    {
     "ename": "AttributeError",
     "evalue": "'Match' object has no attribute 'winner'",
     "output_type": "error",
     "traceback": [
      "\u001b[0;31m---------------------------------------------------------------------------\u001b[0m",
      "\u001b[0;31mAttributeError\u001b[0m                            Traceback (most recent call last)",
      "\u001b[0;32m<ipython-input-10-46f9a1d41271>\u001b[0m in \u001b[0;36m<module>\u001b[0;34m\u001b[0m\n\u001b[1;32m      6\u001b[0m         \u001b[0;32mfor\u001b[0m \u001b[0malliance\u001b[0m \u001b[0;32min\u001b[0m \u001b[0;34m(\u001b[0m\u001b[0;34m'red'\u001b[0m\u001b[0;34m,\u001b[0m \u001b[0;34m'blue'\u001b[0m\u001b[0;34m)\u001b[0m\u001b[0;34m:\u001b[0m\u001b[0;34m\u001b[0m\u001b[0;34m\u001b[0m\u001b[0m\n\u001b[1;32m      7\u001b[0m             \u001b[0;32mfor\u001b[0m \u001b[0mrobot\u001b[0m \u001b[0;32min\u001b[0m \u001b[0;34m[\u001b[0m\u001b[0;36m1\u001b[0m\u001b[0;34m,\u001b[0m \u001b[0;36m2\u001b[0m\u001b[0;34m,\u001b[0m \u001b[0;36m3\u001b[0m\u001b[0;34m]\u001b[0m\u001b[0;34m:\u001b[0m\u001b[0;34m\u001b[0m\u001b[0;34m\u001b[0m\u001b[0m\n\u001b[0;32m----> 8\u001b[0;31m                 \u001b[0mall_row_feats\u001b[0m \u001b[0;34m=\u001b[0m \u001b[0mmap\u001b[0m\u001b[0;34m(\u001b[0m\u001b[0mstr\u001b[0m\u001b[0;34m,\u001b[0m \u001b[0;34m[\u001b[0m\u001b[0mpreChamps\u001b[0m\u001b[0;34m,\u001b[0m \u001b[0mmatch\u001b[0m\u001b[0;34m.\u001b[0m\u001b[0mkey\u001b[0m\u001b[0;34m,\u001b[0m \u001b[0mmatch\u001b[0m\u001b[0;34m.\u001b[0m\u001b[0malliances\u001b[0m\u001b[0;34m[\u001b[0m\u001b[0malliance\u001b[0m\u001b[0;34m]\u001b[0m\u001b[0;34m[\u001b[0m\u001b[0;34m'team_keys'\u001b[0m\u001b[0;34m]\u001b[0m\u001b[0;34m[\u001b[0m\u001b[0mrobot\u001b[0m \u001b[0;34m-\u001b[0m \u001b[0;36m1\u001b[0m\u001b[0;34m]\u001b[0m\u001b[0;34m]\u001b[0m \u001b[0;34m+\u001b[0m \u001b[0mgetData\u001b[0m\u001b[0;34m(\u001b[0m\u001b[0mmatch\u001b[0m\u001b[0;34m,\u001b[0m \u001b[0malliance\u001b[0m\u001b[0;34m,\u001b[0m \u001b[0mrobot\u001b[0m\u001b[0;34m)\u001b[0m \u001b[0;34m+\u001b[0m \u001b[0;34m[\u001b[0m\u001b[0mmatch\u001b[0m\u001b[0;34m.\u001b[0m\u001b[0mwinner\u001b[0m\u001b[0;34m]\u001b[0m\u001b[0;34m)\u001b[0m\u001b[0;34m\u001b[0m\u001b[0;34m\u001b[0m\u001b[0m\n\u001b[0m\u001b[1;32m      9\u001b[0m                 \u001b[0mwriter\u001b[0m\u001b[0;34m.\u001b[0m\u001b[0mwrite\u001b[0m\u001b[0;34m(\u001b[0m\u001b[0;34m\",\"\u001b[0m\u001b[0;34m.\u001b[0m\u001b[0mjoin\u001b[0m\u001b[0;34m(\u001b[0m\u001b[0mall_row_feats\u001b[0m\u001b[0;34m)\u001b[0m \u001b[0;34m+\u001b[0m \u001b[0;34m\"\\n\"\u001b[0m\u001b[0;34m)\u001b[0m\u001b[0;34m\u001b[0m\u001b[0;34m\u001b[0m\u001b[0m\n\u001b[1;32m     10\u001b[0m \u001b[0mwriter\u001b[0m\u001b[0;34m.\u001b[0m\u001b[0mclose\u001b[0m\u001b[0;34m(\u001b[0m\u001b[0;34m)\u001b[0m\u001b[0;34m\u001b[0m\u001b[0;34m\u001b[0m\u001b[0m\n",
      "\u001b[0;31mAttributeError\u001b[0m: 'Match' object has no attribute 'winner'"
     ]
    }
   ],
   "source": [
    "writer = open(output_file, 'w')\n",
    "all_col_names = [\"preChamps\", \"match_key\", \"team\"] + features_row + [\"winner\"]\n",
    "writer.write(\",\".join(all_col_names) + \"\\n\")\n",
    "for preChamps, match_list in ((1, pre_champs_matches), (0, champs_matches)):\n",
    "    for match in match_list:\n",
    "        for alliance in ('red', 'blue'):\n",
    "            for robot in [1, 2, 3]:\n",
    "                all_row_feats = map(str, [preChamps, match.key, match.alliances[alliance]['team_keys'][robot - 1]] + getData(match, alliance, robot) + [0 if winning_alliance])\n",
    "                writer.write(\",\".join(all_row_feats) + \"\\n\")\n",
    "writer.close()"
   ]
  },
  {
   "cell_type": "code",
   "execution_count": 11,
   "metadata": {},
   "outputs": [
    {
     "data": {
      "text/plain": [
       "Match({'actual_time': 1555781327, 'alliances': {'blue': {'dq_team_keys': [], 'score': 106, 'surrogate_team_keys': [], 'team_keys': ['frc1678', 'frc3132', 'frc7179']}, 'red': {'dq_team_keys': [], 'score': 93, 'surrogate_team_keys': [], 'team_keys': ['frc1746', 'frc6443', 'frc7426']}}, 'comp_level': 'f', 'event_key': '2019carv', 'key': '2019carv_f1m1', 'match_number': 1, 'post_result_time': 1555782842, 'predicted_time': 1555782606, 'score_breakdown': {'blue': {'adjustPoints': 0, 'autoPoints': 15, 'bay1': 'PanelAndCargo', 'bay2': 'PanelAndCargo', 'bay3': 'PanelAndCargo', 'bay4': 'PanelAndCargo', 'bay5': 'PanelAndCargo', 'bay6': 'PanelAndCargo', 'bay7': 'PanelAndCargo', 'bay8': 'Panel', 'cargoPoints': 33, 'completeRocketRankingPoint': False, 'completedRocketFar': False, 'completedRocketNear': False, 'endgameRobot1': 'HabLevel3', 'endgameRobot2': 'HabLevel3', 'endgameRobot3': 'HabLevel3', 'foulCount': 1, 'foulPoints': 0, 'habClimbPoints': 36, 'habDockingRankingPoint': False, 'habLineRobot1': 'CrossedHabLineInSandstorm', 'habLineRobot2': 'CrossedHabLineInSandstorm', 'habLineRobot3': 'CrossedHabLineInSandstorm', 'hatchPanelPoints': 22, 'lowLeftRocketFar': 'Panel', 'lowLeftRocketNear': 'PanelAndCargo', 'lowRightRocketFar': 'Panel', 'lowRightRocketNear': 'PanelAndCargo', 'midLeftRocketFar': 'Panel', 'midLeftRocketNear': 'PanelAndCargo', 'midRightRocketFar': 'Panel', 'midRightRocketNear': 'PanelAndCargo', 'preMatchBay1': 'Panel', 'preMatchBay2': 'Panel', 'preMatchBay3': 'Panel', 'preMatchBay6': 'Panel', 'preMatchBay7': 'Panel', 'preMatchBay8': 'Panel', 'preMatchLevelRobot1': 'HabLevel1', 'preMatchLevelRobot2': 'HabLevel2', 'preMatchLevelRobot3': 'HabLevel2', 'rp': 0, 'sandStormBonusPoints': 15, 'techFoulCount': 0, 'teleopPoints': 91, 'topLeftRocketFar': 'None', 'topLeftRocketNear': 'None', 'topRightRocketFar': 'None', 'topRightRocketNear': 'Panel', 'totalPoints': 106}, 'red': {'adjustPoints': 0, 'autoPoints': 15, 'bay1': 'PanelAndCargo', 'bay2': 'PanelAndCargo', 'bay3': 'PanelAndCargo', 'bay4': 'PanelAndCargo', 'bay5': 'None', 'bay6': 'PanelAndCargo', 'bay7': 'PanelAndCargo', 'bay8': 'PanelAndCargo', 'cargoPoints': 39, 'completeRocketRankingPoint': False, 'completedRocketFar': False, 'completedRocketNear': True, 'endgameRobot1': 'HabLevel1', 'endgameRobot2': 'HabLevel3', 'endgameRobot3': 'HabLevel1', 'foulCount': 0, 'foulPoints': 3, 'habClimbPoints': 18, 'habDockingRankingPoint': False, 'habLineRobot1': 'CrossedHabLineInSandstorm', 'habLineRobot2': 'CrossedHabLineInSandstorm', 'habLineRobot3': 'CrossedHabLineInSandstorm', 'hatchPanelPoints': 18, 'lowLeftRocketFar': 'None', 'lowLeftRocketNear': 'PanelAndCargo', 'lowRightRocketFar': 'Panel', 'lowRightRocketNear': 'PanelAndCargo', 'midLeftRocketFar': 'None', 'midLeftRocketNear': 'PanelAndCargo', 'midRightRocketFar': 'None', 'midRightRocketNear': 'PanelAndCargo', 'preMatchBay1': 'Panel', 'preMatchBay2': 'Panel', 'preMatchBay3': 'Cargo', 'preMatchBay6': 'Panel', 'preMatchBay7': 'Panel', 'preMatchBay8': 'Panel', 'preMatchLevelRobot1': 'HabLevel1', 'preMatchLevelRobot2': 'HabLevel2', 'preMatchLevelRobot3': 'HabLevel2', 'rp': 0, 'sandStormBonusPoints': 15, 'techFoulCount': 0, 'teleopPoints': 75, 'topLeftRocketFar': 'None', 'topLeftRocketNear': 'PanelAndCargo', 'topRightRocketFar': 'None', 'topRightRocketNear': 'PanelAndCargo', 'totalPoints': 93}}, 'set_number': 1, 'time': 1555778160, 'videos': [{'key': 'lvqk39YsMCs', 'type': 'youtube'}], 'winning_alliance': 'blue'})"
      ]
     },
     "execution_count": 11,
     "metadata": {},
     "output_type": "execute_result"
    }
   ],
   "source": [
    "champs_matches[0]"
   ]
  },
  {
   "cell_type": "markdown",
   "metadata": {},
   "source": [
    "## Simple Output"
   ]
  },
  {
   "cell_type": "code",
   "execution_count": null,
   "metadata": {},
   "outputs": [],
   "source": [
    "writer = open(output_file2, 'w')\n",
    "all_col_names = [\"preChamps\", \"match_key\", \"r1\", \"r2\", \"r3\", \"b1\", \"b2\", \"b3\", \"winner\"]\n",
    "writer.write(\",\".join(all_col_names) + \"\\n\")\n",
    "for preChamps, match_list in ((1, pre_champs_matches), (0, champs_matches)):\n",
    "    for match in match_list:\n",
    "        output_data = [preChamps, match.key] + match.alliances['red']['team_keys'][:3] + match.alliances['blue']['team_keys'][:3] + [0 if match.winning_alliance == 'red' else 1]\n",
    "        writer.write(\",\".join([str(a) for a in output_data]) + \"\\n\")"
   ]
  }
 ],
 "metadata": {
  "kernelspec": {
   "display_name": "Python 3",
   "language": "python",
   "name": "python3"
  },
  "language_info": {
   "codemirror_mode": {
    "name": "ipython",
    "version": 3
   },
   "file_extension": ".py",
   "mimetype": "text/x-python",
   "name": "python",
   "nbconvert_exporter": "python",
   "pygments_lexer": "ipython3",
   "version": "3.6.9"
  }
 },
 "nbformat": 4,
 "nbformat_minor": 4
}
