{
 "cells": [
  {
   "cell_type": "code",
   "execution_count": 12,
   "metadata": {},
   "outputs": [],
   "source": [
    "import pandas as pd\n",
    "import matplotlib.pyplot as plt\n",
    "match_file = \"match_simple.csv\"\n",
    "team_file = \"team_data.csv\""
   ]
  },
  {
   "cell_type": "code",
   "execution_count": 6,
   "metadata": {},
   "outputs": [
    {
     "data": {
      "text/html": [
       "<div>\n",
       "<style scoped>\n",
       "    .dataframe tbody tr th:only-of-type {\n",
       "        vertical-align: middle;\n",
       "    }\n",
       "\n",
       "    .dataframe tbody tr th {\n",
       "        vertical-align: top;\n",
       "    }\n",
       "\n",
       "    .dataframe thead th {\n",
       "        text-align: right;\n",
       "    }\n",
       "</style>\n",
       "<table border=\"1\" class=\"dataframe\">\n",
       "  <thead>\n",
       "    <tr style=\"text-align: right;\">\n",
       "      <th></th>\n",
       "      <th>preChamps</th>\n",
       "      <th>match_key</th>\n",
       "      <th>r1</th>\n",
       "      <th>r2</th>\n",
       "      <th>r3</th>\n",
       "      <th>b1</th>\n",
       "      <th>b2</th>\n",
       "      <th>b3</th>\n",
       "      <th>winner</th>\n",
       "    </tr>\n",
       "  </thead>\n",
       "  <tbody>\n",
       "    <tr>\n",
       "      <th>0</th>\n",
       "      <td>1</td>\n",
       "      <td>2019abca_f1m1</td>\n",
       "      <td>frc2122</td>\n",
       "      <td>frc359</td>\n",
       "      <td>frc6841</td>\n",
       "      <td>frc5015</td>\n",
       "      <td>frc6485</td>\n",
       "      <td>frc7246</td>\n",
       "      <td>0</td>\n",
       "    </tr>\n",
       "    <tr>\n",
       "      <th>1</th>\n",
       "      <td>1</td>\n",
       "      <td>2019abca_f1m2</td>\n",
       "      <td>frc2122</td>\n",
       "      <td>frc359</td>\n",
       "      <td>frc6841</td>\n",
       "      <td>frc5015</td>\n",
       "      <td>frc6485</td>\n",
       "      <td>frc7246</td>\n",
       "      <td>0</td>\n",
       "    </tr>\n",
       "    <tr>\n",
       "      <th>2</th>\n",
       "      <td>1</td>\n",
       "      <td>2019abca_qf1m1</td>\n",
       "      <td>frc2122</td>\n",
       "      <td>frc359</td>\n",
       "      <td>frc6841</td>\n",
       "      <td>frc1482</td>\n",
       "      <td>frc4010</td>\n",
       "      <td>frc4191</td>\n",
       "      <td>0</td>\n",
       "    </tr>\n",
       "    <tr>\n",
       "      <th>3</th>\n",
       "      <td>1</td>\n",
       "      <td>2019abca_qf1m2</td>\n",
       "      <td>frc2122</td>\n",
       "      <td>frc359</td>\n",
       "      <td>frc6841</td>\n",
       "      <td>frc1482</td>\n",
       "      <td>frc4010</td>\n",
       "      <td>frc4191</td>\n",
       "      <td>0</td>\n",
       "    </tr>\n",
       "    <tr>\n",
       "      <th>4</th>\n",
       "      <td>1</td>\n",
       "      <td>2019abca_qf2m1</td>\n",
       "      <td>frc4334</td>\n",
       "      <td>frc6351</td>\n",
       "      <td>frc5078</td>\n",
       "      <td>frc3250</td>\n",
       "      <td>frc7591</td>\n",
       "      <td>frc7799</td>\n",
       "      <td>1</td>\n",
       "    </tr>\n",
       "  </tbody>\n",
       "</table>\n",
       "</div>"
      ],
      "text/plain": [
       "   preChamps       match_key       r1       r2       r3       b1       b2  \\\n",
       "0          1   2019abca_f1m1  frc2122   frc359  frc6841  frc5015  frc6485   \n",
       "1          1   2019abca_f1m2  frc2122   frc359  frc6841  frc5015  frc6485   \n",
       "2          1  2019abca_qf1m1  frc2122   frc359  frc6841  frc1482  frc4010   \n",
       "3          1  2019abca_qf1m2  frc2122   frc359  frc6841  frc1482  frc4010   \n",
       "4          1  2019abca_qf2m1  frc4334  frc6351  frc5078  frc3250  frc7591   \n",
       "\n",
       "        b3  winner  \n",
       "0  frc7246       0  \n",
       "1  frc7246       0  \n",
       "2  frc4191       0  \n",
       "3  frc4191       0  \n",
       "4  frc7799       1  "
      ]
     },
     "execution_count": 6,
     "metadata": {},
     "output_type": "execute_result"
    }
   ],
   "source": [
    "matches = pd.read_csv(match_file)\n",
    "matches.head()"
   ]
  },
  {
   "cell_type": "code",
   "execution_count": 24,
   "metadata": {},
   "outputs": [
    {
     "data": {
      "text/html": [
       "<div>\n",
       "<style scoped>\n",
       "    .dataframe tbody tr th:only-of-type {\n",
       "        vertical-align: middle;\n",
       "    }\n",
       "\n",
       "    .dataframe tbody tr th {\n",
       "        vertical-align: top;\n",
       "    }\n",
       "\n",
       "    .dataframe thead th {\n",
       "        text-align: right;\n",
       "    }\n",
       "</style>\n",
       "<table border=\"1\" class=\"dataframe\">\n",
       "  <thead>\n",
       "    <tr style=\"text-align: right;\">\n",
       "      <th></th>\n",
       "      <th>team</th>\n",
       "      <th>elo</th>\n",
       "      <th>event_wins</th>\n",
       "      <th>1_wins</th>\n",
       "      <th>2_wins</th>\n",
       "      <th>3_wins</th>\n",
       "      <th>num_seasons</th>\n",
       "      <th>event_wins_per_season</th>\n",
       "    </tr>\n",
       "  </thead>\n",
       "  <tbody>\n",
       "    <tr>\n",
       "      <th>0</th>\n",
       "      <td>frc1</td>\n",
       "      <td>1560</td>\n",
       "      <td>1</td>\n",
       "      <td>0</td>\n",
       "      <td>0</td>\n",
       "      <td>1</td>\n",
       "      <td>24</td>\n",
       "      <td>0.041667</td>\n",
       "    </tr>\n",
       "    <tr>\n",
       "      <th>1</th>\n",
       "      <td>frc4</td>\n",
       "      <td>1557</td>\n",
       "      <td>2</td>\n",
       "      <td>1</td>\n",
       "      <td>0</td>\n",
       "      <td>1</td>\n",
       "      <td>15</td>\n",
       "      <td>0.133333</td>\n",
       "    </tr>\n",
       "    <tr>\n",
       "      <th>2</th>\n",
       "      <td>frc8</td>\n",
       "      <td>1572</td>\n",
       "      <td>1</td>\n",
       "      <td>0</td>\n",
       "      <td>0</td>\n",
       "      <td>1</td>\n",
       "      <td>25</td>\n",
       "      <td>0.040000</td>\n",
       "    </tr>\n",
       "    <tr>\n",
       "      <th>3</th>\n",
       "      <td>frc11</td>\n",
       "      <td>1600</td>\n",
       "      <td>6</td>\n",
       "      <td>2</td>\n",
       "      <td>2</td>\n",
       "      <td>2</td>\n",
       "      <td>24</td>\n",
       "      <td>0.250000</td>\n",
       "    </tr>\n",
       "    <tr>\n",
       "      <th>4</th>\n",
       "      <td>frc16</td>\n",
       "      <td>1726</td>\n",
       "      <td>17</td>\n",
       "      <td>11</td>\n",
       "      <td>5</td>\n",
       "      <td>1</td>\n",
       "      <td>24</td>\n",
       "      <td>0.708333</td>\n",
       "    </tr>\n",
       "  </tbody>\n",
       "</table>\n",
       "</div>"
      ],
      "text/plain": [
       "    team   elo  event_wins  1_wins  2_wins  3_wins  num_seasons  \\\n",
       "0   frc1  1560           1       0       0       1           24   \n",
       "1   frc4  1557           2       1       0       1           15   \n",
       "2   frc8  1572           1       0       0       1           25   \n",
       "3  frc11  1600           6       2       2       2           24   \n",
       "4  frc16  1726          17      11       5       1           24   \n",
       "\n",
       "   event_wins_per_season  \n",
       "0               0.041667  \n",
       "1               0.133333  \n",
       "2               0.040000  \n",
       "3               0.250000  \n",
       "4               0.708333  "
      ]
     },
     "execution_count": 24,
     "metadata": {},
     "output_type": "execute_result"
    }
   ],
   "source": [
    "teams = pd.read_csv(team_file)\n",
    "def getTeamElo(team):\n",
    "    for idx in teams.loc[teams['team'] == team].index:\n",
    "        return teams.iloc[idx]['elo']\n",
    "def getTeamEventWinsPerSeason(team):\n",
    "    for idx in teams.loc[teams['team'] == team].index:\n",
    "        return teams.iloc[idx]['event_wins_per_season']\n",
    "teams.head()"
   ]
  },
  {
   "cell_type": "code",
   "execution_count": 11,
   "metadata": {},
   "outputs": [],
   "source": [
    "win_tracker = {} # team -> {'wins': X, 'losses': X}\n",
    "for idx in teams.index:\n",
    "    team_row = teams.iloc[idx]\n",
    "    team = team_row['team']\n",
    "    win_tracker[team] = {'wins': 0, 'losses': 0}\n",
    "\n",
    "for idx in matches.index:\n",
    "    match_row = matches.iloc[idx]\n",
    "    match_winner = match_row['winner']\n",
    "    for bot_list, alliance_id in ( (('r1', 'r2', 'r3'), 0), (('b1', 'b2', 'b3'), 1) ):\n",
    "        for team in bot_list:\n",
    "            win_tracker[match_row[team]]['wins' if match_winner == alliance_id else 'losses'] += 1\n",
    "            \n",
    "for team in win_tracker:\n",
    "    win_tracker[team]['win_percentage'] = 100 * win_tracker[team]['wins'] / (win_tracker[team]['wins'] + win_tracker[team]['losses'])"
   ]
  },
  {
   "cell_type": "code",
   "execution_count": 16,
   "metadata": {},
   "outputs": [],
   "source": [
    "xs = []\n",
    "ys = []\n",
    "for team in win_tracker:\n",
    "    xs.append(getTeamElo(team))\n",
    "    ys.append(win_tracker[team]['win_percentage'])"
   ]
  },
  {
   "cell_type": "code",
   "execution_count": 22,
   "metadata": {},
   "outputs": [
    {
     "data": {
      "text/plain": [
       "Text(0.5, 1.0, 'Team Elo vs 2019 Win %')"
      ]
     },
     "execution_count": 22,
     "metadata": {},
     "output_type": "execute_result"
    },
    {
     "data": {
      "image/png": "[encoded data removed]",
      "text/plain": [
       "<Figure size 432x288 with 1 Axes>"
      ]
     },
     "metadata": {
      "needs_background": "light"
     },
     "output_type": "display_data"
    }
   ],
   "source": [
    "plt.scatter(xs, ys)\n",
    "plt.xlabel('Elo')\n",
    "plt.ylabel('Win %')\n",
    "plt.title('Team Elo vs 2019 Win %')"
   ]
  },
  {
   "cell_type": "code",
   "execution_count": 25,
   "metadata": {},
   "outputs": [],
   "source": [
    "xs = []\n",
    "ys = []\n",
    "for team in win_tracker:\n",
    "    xs.append(getTeamEventWinsPerSeason(team))\n",
    "    ys.append(win_tracker[team]['win_percentage'])"
   ]
  },
  {
   "cell_type": "code",
   "execution_count": 26,
   "metadata": {},
   "outputs": [
    {
     "data": {
      "text/plain": [
       "Text(0.5, 1.0, 'Event Wins Per Season vs 2019 Win %')"
      ]
     },
     "execution_count": 26,
     "metadata": {},
     "output_type": "execute_result"
    },
    {
     "data": {
      "image/png": "[encoded data removed]",
      "text/plain": [
       "<Figure size 432x288 with 1 Axes>"
      ]
     },
     "metadata": {
      "needs_background": "light"
     },
     "output_type": "display_data"
    }
   ],
   "source": [
    "plt.scatter(xs, ys)\n",
    "plt.xlabel('Event Wins Per Season')\n",
    "plt.ylabel('Win %')\n",
    "plt.title('Event Wins Per Season vs 2019 Win %')"
   ]
  }
 ],
 "metadata": {
  "kernelspec": {
   "display_name": "Python 3",
   "language": "python",
   "name": "python3"
  },
  "language_info": {
   "codemirror_mode": {
    "name": "ipython",
    "version": 3
   },
   "file_extension": ".py",
   "mimetype": "text/x-python",
   "name": "python",
   "nbconvert_exporter": "python",
   "pygments_lexer": "ipython3",
   "version": "3.6.9"
  }
 },
 "nbformat": 4,
 "nbformat_minor": 4
}
