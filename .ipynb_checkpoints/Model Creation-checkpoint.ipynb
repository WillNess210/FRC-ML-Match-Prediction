{
 "cells": [
  {
   "cell_type": "code",
   "execution_count": 1,
   "metadata": {},
   "outputs": [],
   "source": [
    "import numpy as np\n",
    "import pandas as pd\n",
    "import tensorflow as tf\n",
    "from sklearn.ensemble import RandomForestClassifier"
   ]
  },
  {
   "cell_type": "code",
   "execution_count": 2,
   "metadata": {},
   "outputs": [
    {
     "data": {
      "text/html": [
       "<div>\n",
       "<style scoped>\n",
       "    .dataframe tbody tr th:only-of-type {\n",
       "        vertical-align: middle;\n",
       "    }\n",
       "\n",
       "    .dataframe tbody tr th {\n",
       "        vertical-align: top;\n",
       "    }\n",
       "\n",
       "    .dataframe thead th {\n",
       "        text-align: right;\n",
       "    }\n",
       "</style>\n",
       "<table border=\"1\" class=\"dataframe\">\n",
       "  <thead>\n",
       "    <tr style=\"text-align: right;\">\n",
       "      <th></th>\n",
       "      <th>0</th>\n",
       "      <th>1</th>\n",
       "      <th>2</th>\n",
       "      <th>3</th>\n",
       "      <th>4</th>\n",
       "      <th>5</th>\n",
       "      <th>6</th>\n",
       "      <th>7</th>\n",
       "      <th>8</th>\n",
       "      <th>9</th>\n",
       "      <th>...</th>\n",
       "      <th>49</th>\n",
       "      <th>50</th>\n",
       "      <th>51</th>\n",
       "      <th>52</th>\n",
       "      <th>53</th>\n",
       "      <th>54</th>\n",
       "      <th>55</th>\n",
       "      <th>56</th>\n",
       "      <th>57</th>\n",
       "      <th>58</th>\n",
       "    </tr>\n",
       "  </thead>\n",
       "  <tbody>\n",
       "    <tr>\n",
       "      <th>0</th>\n",
       "      <td>1660.000000</td>\n",
       "      <td>12.000000</td>\n",
       "      <td>5.333333</td>\n",
       "      <td>5.666667</td>\n",
       "      <td>1.000000</td>\n",
       "      <td>12.333333</td>\n",
       "      <td>0.692857</td>\n",
       "      <td>0.0</td>\n",
       "      <td>13.055783</td>\n",
       "      <td>26.258952</td>\n",
       "      <td>...</td>\n",
       "      <td>48.765331</td>\n",
       "      <td>63.902279</td>\n",
       "      <td>0.326692</td>\n",
       "      <td>0.087500</td>\n",
       "      <td>0.445602</td>\n",
       "      <td>0.0</td>\n",
       "      <td>0.974359</td>\n",
       "      <td>0.025641</td>\n",
       "      <td>44.428330</td>\n",
       "      <td>0</td>\n",
       "    </tr>\n",
       "    <tr>\n",
       "      <th>1</th>\n",
       "      <td>1660.000000</td>\n",
       "      <td>12.000000</td>\n",
       "      <td>5.333333</td>\n",
       "      <td>5.666667</td>\n",
       "      <td>1.000000</td>\n",
       "      <td>12.333333</td>\n",
       "      <td>0.692857</td>\n",
       "      <td>0.0</td>\n",
       "      <td>13.055783</td>\n",
       "      <td>26.258952</td>\n",
       "      <td>...</td>\n",
       "      <td>48.765331</td>\n",
       "      <td>63.902279</td>\n",
       "      <td>0.326692</td>\n",
       "      <td>0.087500</td>\n",
       "      <td>0.445602</td>\n",
       "      <td>0.0</td>\n",
       "      <td>0.974359</td>\n",
       "      <td>0.025641</td>\n",
       "      <td>44.428330</td>\n",
       "      <td>0</td>\n",
       "    </tr>\n",
       "    <tr>\n",
       "      <th>2</th>\n",
       "      <td>1660.000000</td>\n",
       "      <td>12.000000</td>\n",
       "      <td>5.333333</td>\n",
       "      <td>5.666667</td>\n",
       "      <td>1.000000</td>\n",
       "      <td>12.333333</td>\n",
       "      <td>0.692857</td>\n",
       "      <td>0.0</td>\n",
       "      <td>13.055783</td>\n",
       "      <td>26.258952</td>\n",
       "      <td>...</td>\n",
       "      <td>31.103462</td>\n",
       "      <td>45.165862</td>\n",
       "      <td>0.621176</td>\n",
       "      <td>0.014493</td>\n",
       "      <td>0.009259</td>\n",
       "      <td>0.0</td>\n",
       "      <td>0.838969</td>\n",
       "      <td>0.100242</td>\n",
       "      <td>33.628019</td>\n",
       "      <td>0</td>\n",
       "    </tr>\n",
       "    <tr>\n",
       "      <th>3</th>\n",
       "      <td>1660.000000</td>\n",
       "      <td>12.000000</td>\n",
       "      <td>5.333333</td>\n",
       "      <td>5.666667</td>\n",
       "      <td>1.000000</td>\n",
       "      <td>12.333333</td>\n",
       "      <td>0.692857</td>\n",
       "      <td>0.0</td>\n",
       "      <td>13.055783</td>\n",
       "      <td>26.258952</td>\n",
       "      <td>...</td>\n",
       "      <td>31.103462</td>\n",
       "      <td>45.165862</td>\n",
       "      <td>0.621176</td>\n",
       "      <td>0.014493</td>\n",
       "      <td>0.009259</td>\n",
       "      <td>0.0</td>\n",
       "      <td>0.838969</td>\n",
       "      <td>0.100242</td>\n",
       "      <td>33.628019</td>\n",
       "      <td>0</td>\n",
       "    </tr>\n",
       "    <tr>\n",
       "      <th>4</th>\n",
       "      <td>1549.666667</td>\n",
       "      <td>2.333333</td>\n",
       "      <td>0.666667</td>\n",
       "      <td>1.000000</td>\n",
       "      <td>0.666667</td>\n",
       "      <td>6.666667</td>\n",
       "      <td>0.259259</td>\n",
       "      <td>0.0</td>\n",
       "      <td>12.092857</td>\n",
       "      <td>18.333333</td>\n",
       "      <td>...</td>\n",
       "      <td>35.036562</td>\n",
       "      <td>48.044634</td>\n",
       "      <td>0.556505</td>\n",
       "      <td>0.063628</td>\n",
       "      <td>0.189934</td>\n",
       "      <td>0.0</td>\n",
       "      <td>0.840931</td>\n",
       "      <td>0.121083</td>\n",
       "      <td>33.346154</td>\n",
       "      <td>1</td>\n",
       "    </tr>\n",
       "  </tbody>\n",
       "</table>\n",
       "<p>5 rows × 59 columns</p>\n",
       "</div>"
      ],
      "text/plain": [
       "            0          1         2         3         4          5         6   \\\n",
       "0  1660.000000  12.000000  5.333333  5.666667  1.000000  12.333333  0.692857   \n",
       "1  1660.000000  12.000000  5.333333  5.666667  1.000000  12.333333  0.692857   \n",
       "2  1660.000000  12.000000  5.333333  5.666667  1.000000  12.333333  0.692857   \n",
       "3  1660.000000  12.000000  5.333333  5.666667  1.000000  12.333333  0.692857   \n",
       "4  1549.666667   2.333333  0.666667  1.000000  0.666667   6.666667  0.259259   \n",
       "\n",
       "    7          8          9   ...         49         50        51        52  \\\n",
       "0  0.0  13.055783  26.258952  ...  48.765331  63.902279  0.326692  0.087500   \n",
       "1  0.0  13.055783  26.258952  ...  48.765331  63.902279  0.326692  0.087500   \n",
       "2  0.0  13.055783  26.258952  ...  31.103462  45.165862  0.621176  0.014493   \n",
       "3  0.0  13.055783  26.258952  ...  31.103462  45.165862  0.621176  0.014493   \n",
       "4  0.0  12.092857  18.333333  ...  35.036562  48.044634  0.556505  0.063628   \n",
       "\n",
       "         53   54        55        56         57  58  \n",
       "0  0.445602  0.0  0.974359  0.025641  44.428330   0  \n",
       "1  0.445602  0.0  0.974359  0.025641  44.428330   0  \n",
       "2  0.009259  0.0  0.838969  0.100242  33.628019   0  \n",
       "3  0.009259  0.0  0.838969  0.100242  33.628019   0  \n",
       "4  0.189934  0.0  0.840931  0.121083  33.346154   1  \n",
       "\n",
       "[5 rows x 59 columns]"
      ]
     },
     "execution_count": 2,
     "metadata": {},
     "output_type": "execute_result"
    }
   ],
   "source": [
    "train_data = pd.read_csv('data_creation/training_data.csv', header=None)\n",
    "train_X = train_data[train_data.columns[:-1]]\n",
    "train_y = train_data[train_data.columns[-1]]\n",
    "test_data = pd.read_csv('data_creation/test_data.csv', header=None)\n",
    "test_X = test_data[test_data.columns[:-1]]\n",
    "test_y = test_data[test_data.columns[-1]]\n",
    "#print(f\"Training dataset size: {len(train_X.index)}\")\n",
    "#print(f\"Test dataset size: {len(test_X.index)}\")\n",
    "train_data.head()"
   ]
  },
  {
   "cell_type": "code",
   "execution_count": 3,
   "metadata": {},
   "outputs": [],
   "source": [
    "# converting to lists\n",
    "X_train = []\n",
    "y_train = []\n",
    "X_test = []\n",
    "y_test = []\n",
    "\n",
    "for X, y, data in ((X_train, y_train, train_data), (X_test, y_test, test_data)):\n",
    "    for idx in data.index:\n",
    "        row = list(data.iloc[idx])\n",
    "        X.append(row[:-1])\n",
    "        y.append(row[-1])"
   ]
  },
  {
   "cell_type": "code",
   "execution_count": 4,
   "metadata": {},
   "outputs": [
    {
     "name": "stdout",
     "output_type": "stream",
     "text": [
      "16434 58\n",
      "16434\n",
      "1588 58\n",
      "1588\n"
     ]
    }
   ],
   "source": [
    "print(len(X_train), len(X_train[0]))\n",
    "print(len(y_train))\n",
    "\n",
    "print(len(X_test), len(X_test[0]))\n",
    "print(len(y_test))"
   ]
  },
  {
   "cell_type": "markdown",
   "metadata": {},
   "source": [
    "## Random Forest"
   ]
  },
  {
   "cell_type": "code",
   "execution_count": 5,
   "metadata": {},
   "outputs": [
    {
     "data": {
      "text/plain": [
       "RandomForestClassifier(bootstrap=True, ccp_alpha=0.0, class_weight=None,\n",
       "                       criterion='gini', max_depth=None, max_features='auto',\n",
       "                       max_leaf_nodes=None, max_samples=None,\n",
       "                       min_impurity_decrease=0.0, min_impurity_split=None,\n",
       "                       min_samples_leaf=1, min_samples_split=2,\n",
       "                       min_weight_fraction_leaf=0.0, n_estimators=250,\n",
       "                       n_jobs=None, oob_score=False, random_state=None,\n",
       "                       verbose=0, warm_start=False)"
      ]
     },
     "execution_count": 5,
     "metadata": {},
     "output_type": "execute_result"
    }
   ],
   "source": [
    "random_forest = RandomForestClassifier(n_estimators=250)\n",
    "random_forest.fit(X_train, y_train)"
   ]
  },
  {
   "cell_type": "code",
   "execution_count": 6,
   "metadata": {},
   "outputs": [
    {
     "name": "stdout",
     "output_type": "stream",
     "text": [
      "Acuracy: 0.7537783375314862\n"
     ]
    }
   ],
   "source": [
    "print(f\"Acuracy: {random_forest.score(X_test, y_test)}\")"
   ]
  },
  {
   "cell_type": "markdown",
   "metadata": {},
   "source": [
    "## NN"
   ]
  },
  {
   "cell_type": "code",
   "execution_count": 17,
   "metadata": {},
   "outputs": [
    {
     "name": "stdout",
     "output_type": "stream",
     "text": [
      "Model: \"sequential_4\"\n",
      "_________________________________________________________________\n",
      "Layer (type)                 Output Shape              Param #   \n",
      "=================================================================\n",
      "dense_14 (Dense)             (None, 512)               30208     \n",
      "_________________________________________________________________\n",
      "dense_15 (Dense)             (None, 256)               131328    \n",
      "_________________________________________________________________\n",
      "dense_16 (Dense)             (None, 1)                 257       \n",
      "=================================================================\n",
      "Total params: 161,793\n",
      "Trainable params: 161,793\n",
      "Non-trainable params: 0\n",
      "_________________________________________________________________\n"
     ]
    }
   ],
   "source": [
    "model = tf.keras.Sequential()\n",
    "model.add(tf.keras.layers.Dense(512, activation=tf.nn.relu, input_shape=(58,)))\n",
    "model.add(tf.keras.layers.Dense(256, activation=tf.nn.relu))\n",
    "model.add(tf.keras.layers.Dense(1, activation='sigmoid'))\n",
    "\n",
    "opt = tf.keras.optimizers.SGD(momentum = 0.3, learning_rate=0.1)\n",
    "\n",
    "model.compile(optimizer='adam',\n",
    "              loss='binary_crossentropy',\n",
    "              metrics=['accuracy'])\n",
    "\n",
    "model.summary()"
   ]
  },
  {
   "cell_type": "code",
   "execution_count": 35,
   "metadata": {},
   "outputs": [
    {
     "name": "stdout",
     "output_type": "stream",
     "text": [
      "Model: \"sequential_14\"\n",
      "_________________________________________________________________\n",
      "Layer (type)                 Output Shape              Param #   \n",
      "=================================================================\n",
      "dense_44 (Dense)             (None, 58)                3422      \n",
      "_________________________________________________________________\n",
      "dense_45 (Dense)             (None, 32)                1888      \n",
      "_________________________________________________________________\n",
      "dense_46 (Dense)             (None, 32)                1056      \n",
      "_________________________________________________________________\n",
      "dense_47 (Dense)             (None, 32)                1056      \n",
      "_________________________________________________________________\n",
      "dense_48 (Dense)             (None, 32)                1056      \n",
      "_________________________________________________________________\n",
      "dense_49 (Dense)             (None, 1)                 33        \n",
      "=================================================================\n",
      "Total params: 8,511\n",
      "Trainable params: 8,511\n",
      "Non-trainable params: 0\n",
      "_________________________________________________________________\n"
     ]
    }
   ],
   "source": [
    "model = tf.keras.Sequential()\n",
    "model.add(tf.keras.layers.Dense(58, activation=tf.nn.relu, input_shape=(58,)))\n",
    "model.add(tf.keras.layers.Dense(32, activation=tf.nn.relu))\n",
    "model.add(tf.keras.layers.Dense(32, activation=tf.nn.relu))\n",
    "model.add(tf.keras.layers.Dense(32, activation=tf.nn.relu))\n",
    "model.add(tf.keras.layers.Dense(32, activation=tf.nn.relu))\n",
    "model.add(tf.keras.layers.Dense(1, activation='sigmoid'))\n",
    "\n",
    "opt = tf.keras.optimizers.SGD(momentum = 0.3, learning_rate=0.1)\n",
    "\n",
    "model.compile(optimizer='adam',\n",
    "              loss='binary_crossentropy',\n",
    "              metrics=['accuracy'])\n",
    "\n",
    "model.summary()"
   ]
  },
  {
   "cell_type": "code",
   "execution_count": 36,
   "metadata": {},
   "outputs": [
    {
     "name": "stdout",
     "output_type": "stream",
     "text": [
      "Train on 16434 samples, validate on 1588 samples\n",
      "Epoch 1/35\n",
      "16434/16434 [==============================] - 1s 70us/sample - loss: 1.1073 - accuracy: 0.7110 - val_loss: 0.4458 - val_accuracy: 0.7758\n",
      "Epoch 2/35\n",
      "16434/16434 [==============================] - 1s 45us/sample - loss: 0.5149 - accuracy: 0.7444 - val_loss: 0.4806 - val_accuracy: 0.7469\n",
      "Epoch 3/35\n",
      "16434/16434 [==============================] - 1s 45us/sample - loss: 0.5119 - accuracy: 0.7487 - val_loss: 0.4545 - val_accuracy: 0.7758\n",
      "Epoch 4/35\n",
      "16434/16434 [==============================] - 1s 46us/sample - loss: 0.5025 - accuracy: 0.7522 - val_loss: 0.4354 - val_accuracy: 0.7846\n",
      "Epoch 5/35\n",
      "16434/16434 [==============================] - 1s 59us/sample - loss: 0.5000 - accuracy: 0.7531 - val_loss: 0.4404 - val_accuracy: 0.7815\n",
      "Epoch 6/35\n",
      "16434/16434 [==============================] - 1s 61us/sample - loss: 0.4993 - accuracy: 0.7584 - val_loss: 0.4363 - val_accuracy: 0.7872\n",
      "Epoch 7/35\n",
      "16434/16434 [==============================] - 1s 63us/sample - loss: 0.4895 - accuracy: 0.7564 - val_loss: 0.4511 - val_accuracy: 0.7777\n",
      "Epoch 8/35\n",
      "16434/16434 [==============================] - 1s 51us/sample - loss: 0.4886 - accuracy: 0.7657 - val_loss: 0.4515 - val_accuracy: 0.7739\n",
      "Epoch 9/35\n",
      "16434/16434 [==============================] - 1s 48us/sample - loss: 0.4849 - accuracy: 0.7662 - val_loss: 0.4539 - val_accuracy: 0.7815\n",
      "Epoch 10/35\n",
      "16434/16434 [==============================] - 1s 56us/sample - loss: 0.4940 - accuracy: 0.7569 - val_loss: 0.4871 - val_accuracy: 0.7752\n",
      "Epoch 11/35\n",
      "16434/16434 [==============================] - 1s 48us/sample - loss: 0.4885 - accuracy: 0.7627 - val_loss: 0.4947 - val_accuracy: 0.7531\n",
      "Epoch 12/35\n",
      "16434/16434 [==============================] - 1s 49us/sample - loss: 0.4846 - accuracy: 0.7627 - val_loss: 0.5031 - val_accuracy: 0.7550\n",
      "Epoch 13/35\n",
      "16434/16434 [==============================] - 1s 49us/sample - loss: 0.4859 - accuracy: 0.7627 - val_loss: 0.4716 - val_accuracy: 0.7708\n",
      "Epoch 14/35\n",
      "16434/16434 [==============================] - 1s 48us/sample - loss: 0.4825 - accuracy: 0.7625 - val_loss: 0.4433 - val_accuracy: 0.7809\n",
      "Epoch 15/35\n",
      "16434/16434 [==============================] - 1s 49us/sample - loss: 0.4782 - accuracy: 0.7705 - val_loss: 0.4360 - val_accuracy: 0.7865\n",
      "Epoch 16/35\n",
      "16434/16434 [==============================] - 1s 50us/sample - loss: 0.4866 - accuracy: 0.7634 - val_loss: 0.4915 - val_accuracy: 0.7481\n",
      "Epoch 17/35\n",
      "16434/16434 [==============================] - 1s 49us/sample - loss: 0.4789 - accuracy: 0.7695 - val_loss: 0.4729 - val_accuracy: 0.7714\n",
      "Epoch 18/35\n",
      "16434/16434 [==============================] - 1s 51us/sample - loss: 0.4807 - accuracy: 0.7648 - val_loss: 0.4418 - val_accuracy: 0.7897\n",
      "Epoch 19/35\n",
      "16434/16434 [==============================] - 1s 49us/sample - loss: 0.4790 - accuracy: 0.7684 - val_loss: 0.4350 - val_accuracy: 0.7897\n",
      "Epoch 20/35\n",
      "16434/16434 [==============================] - 1s 53us/sample - loss: 0.4741 - accuracy: 0.7720 - val_loss: 0.4478 - val_accuracy: 0.7897\n",
      "Epoch 21/35\n",
      "16434/16434 [==============================] - 1s 51us/sample - loss: 0.4773 - accuracy: 0.7692 - val_loss: 0.4356 - val_accuracy: 0.7884\n",
      "Epoch 22/35\n",
      "16434/16434 [==============================] - 1s 49us/sample - loss: 0.4759 - accuracy: 0.7716 - val_loss: 0.4440 - val_accuracy: 0.7802\n",
      "Epoch 23/35\n",
      "16434/16434 [==============================] - 1s 49us/sample - loss: 0.4749 - accuracy: 0.7700 - val_loss: 0.4598 - val_accuracy: 0.7827\n",
      "Epoch 24/35\n",
      "16434/16434 [==============================] - 1s 49us/sample - loss: 0.4758 - accuracy: 0.7689 - val_loss: 0.4447 - val_accuracy: 0.7752\n",
      "Epoch 25/35\n",
      "16434/16434 [==============================] - 1s 48us/sample - loss: 0.4736 - accuracy: 0.7707 - val_loss: 0.4517 - val_accuracy: 0.7859\n",
      "Epoch 26/35\n",
      "16434/16434 [==============================] - 1s 49us/sample - loss: 0.4762 - accuracy: 0.7704 - val_loss: 0.4584 - val_accuracy: 0.7727\n",
      "Epoch 27/35\n",
      "16434/16434 [==============================] - 1s 60us/sample - loss: 0.4743 - accuracy: 0.7722 - val_loss: 0.4343 - val_accuracy: 0.7878\n",
      "Epoch 28/35\n",
      "16434/16434 [==============================] - 1s 63us/sample - loss: 0.4725 - accuracy: 0.7729 - val_loss: 0.4675 - val_accuracy: 0.7827\n",
      "Epoch 29/35\n",
      "16434/16434 [==============================] - 1s 70us/sample - loss: 0.4748 - accuracy: 0.7696 - val_loss: 0.4456 - val_accuracy: 0.7771\n",
      "Epoch 30/35\n",
      "16434/16434 [==============================] - 1s 62us/sample - loss: 0.4746 - accuracy: 0.7696 - val_loss: 0.4415 - val_accuracy: 0.7859\n",
      "Epoch 31/35\n",
      "16434/16434 [==============================] - 1s 59us/sample - loss: 0.4722 - accuracy: 0.7722 - val_loss: 0.4438 - val_accuracy: 0.7827\n",
      "Epoch 32/35\n",
      "16434/16434 [==============================] - 1s 53us/sample - loss: 0.4734 - accuracy: 0.7705 - val_loss: 0.4455 - val_accuracy: 0.7853\n",
      "Epoch 33/35\n",
      "16434/16434 [==============================] - 1s 66us/sample - loss: 0.4699 - accuracy: 0.7767 - val_loss: 0.4511 - val_accuracy: 0.7840\n",
      "Epoch 34/35\n",
      "16434/16434 [==============================] - 1s 58us/sample - loss: 0.4727 - accuracy: 0.7722 - val_loss: 0.4406 - val_accuracy: 0.7859\n",
      "Epoch 35/35\n",
      "16434/16434 [==============================] - 1s 59us/sample - loss: 0.4708 - accuracy: 0.7745 - val_loss: 0.4709 - val_accuracy: 0.7594\n"
     ]
    },
    {
     "data": {
      "text/plain": [
       "<tensorflow.python.keras.callbacks.History at 0x7ff458400320>"
      ]
     },
     "execution_count": 36,
     "metadata": {},
     "output_type": "execute_result"
    }
   ],
   "source": [
    "NUM_EPOCHS = 35\n",
    "model.fit(X_train, y_train, epochs=NUM_EPOCHS, validation_data=(X_test, y_test))"
   ]
  }
 ],
 "metadata": {
  "kernelspec": {
   "display_name": "Python 3",
   "language": "python",
   "name": "python3"
  },
  "language_info": {
   "codemirror_mode": {
    "name": "ipython",
    "version": 3
   },
   "file_extension": ".py",
   "mimetype": "text/x-python",
   "name": "python",
   "nbconvert_exporter": "python",
   "pygments_lexer": "ipython3",
   "version": "3.6.9"
  }
 },
 "nbformat": 4,
 "nbformat_minor": 4
}
